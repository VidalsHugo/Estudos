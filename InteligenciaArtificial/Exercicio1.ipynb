{
 "cells": [
  {
   "cell_type": "markdown",
   "id": "e8ddc563",
   "metadata": {},
   "source": [
    "# Exercício Prático 1 - Simulador e Agente Reativo Simples em ambiente Parcialmente Observável"
   ]
  },
  {
   "cell_type": "markdown",
   "id": "17bfd0a0",
   "metadata": {},
   "source": [
    "Autor: Hugo Vidal"
   ]
  },
  {
   "cell_type": "code",
   "execution_count": 6,
   "id": "5ed5d82d",
   "metadata": {
    "scrolled": false
   },
   "outputs": [
    {
     "name": "stdout",
     "output_type": "stream",
     "text": [
      "Sala escolhida: B\n",
      "93\n"
     ]
    }
   ],
   "source": [
    "import random\n",
    "\n",
    "class Agente:\n",
    "\n",
    "    def __init__(self, cenario):\n",
    "        self.cenario = cenario\n",
    "\n",
    "    def verifica(self):\n",
    "        self.tupla = list(self.cenario.keys())  #['A', 'B']\n",
    "        self.local = ''.join(self.tupla) #\"AB\"\n",
    "\n",
    "        self.key = random.choice(self.local) # A ou B\n",
    "        print(\"Sala escolhida: \"+str(self.key))\n",
    "        \n",
    "        i = 0\n",
    "        pontos=0\n",
    "        while i<999:\n",
    "            #verifica se a sala esta limpa\n",
    "            if self.cenario[self.key] == 1:\n",
    "                if self.key == \"A\":\n",
    "                    #Sala A esta limpa, indo para a direita...\n",
    "                    self.key = self.direita()\n",
    "                else:\n",
    "                    #Sala B esta limpa, indo para a esquerda...\n",
    "                    self.key = self.esquerda()\n",
    "            #se estiver sujo:\n",
    "            else:\n",
    "                self.cenario[self.key] = self.limpar()\n",
    "                pontos +=1\n",
    "                if self.key == \"A\":\n",
    "                    #Sala A foi limpa, indo para a direita...\n",
    "                    self.key = self.direita()\n",
    "                else:\n",
    "                    #Sala B foi limpa, indo para a esquerda...\n",
    "                    self.key = self.esquerda()\n",
    "            if i%5==0:\n",
    "                #Chance de sujar alguma sala\n",
    "                sujo = random.randint(0,1)\n",
    "                if sujo == 1:\n",
    "                    #Alguma sala sujou!\n",
    "                    self.cenario[random.choice(self.local)] = 0\n",
    "            i+=1\n",
    "        print(pontos)\n",
    "\n",
    "    def esquerda(self):\n",
    "        return \"A\"\n",
    "    def direita(self):\n",
    "        return \"B\"\n",
    "    def limpar(self):\n",
    "        #limpando...\n",
    "        return  1\n",
    "\n",
    "cenario = {\n",
    "    \"A\": random.randint(0,1),\n",
    "    \"B\": random.randint(0,1)\n",
    "}\n",
    "\n",
    "agente = Agente(cenario)\n",
    "agente.verifica()"
   ]
  },
  {
   "cell_type": "markdown",
   "id": "3bd4bf6e",
   "metadata": {},
   "source": [
    "# Tabela de média das configurações iniciais e média globais"
   ]
  },
  {
   "cell_type": "markdown",
   "id": "484d7854",
   "metadata": {},
   "source": [
    "Configurações iniciais pela Sala A represetada por \"A*\" e pela Sala B por \"B*\""
   ]
  },
  {
   "cell_type": "code",
   "execution_count": 5,
   "id": "896c077e",
   "metadata": {
    "scrolled": false
   },
   "outputs": [
    {
     "data": {
      "text/html": [
       "<div>\n",
       "<style scoped>\n",
       "    .dataframe tbody tr th:only-of-type {\n",
       "        vertical-align: middle;\n",
       "    }\n",
       "\n",
       "    .dataframe tbody tr th {\n",
       "        vertical-align: top;\n",
       "    }\n",
       "\n",
       "    .dataframe thead th {\n",
       "        text-align: right;\n",
       "    }\n",
       "</style>\n",
       "<table border=\"1\" class=\"dataframe\">\n",
       "  <thead>\n",
       "    <tr style=\"text-align: right;\">\n",
       "      <th></th>\n",
       "      <th>A*</th>\n",
       "      <th>B</th>\n",
       "      <th>Média Pontos-A</th>\n",
       "      <th>Média Global-A</th>\n",
       "      <th>A</th>\n",
       "      <th>B*</th>\n",
       "      <th>Média Pontos-B</th>\n",
       "      <th>Média Global-B</th>\n",
       "    </tr>\n",
       "  </thead>\n",
       "  <tbody>\n",
       "    <tr>\n",
       "      <th>0</th>\n",
       "      <td>SUJO</td>\n",
       "      <td>SUJO</td>\n",
       "      <td>100</td>\n",
       "      <td>100</td>\n",
       "      <td>SUJO</td>\n",
       "      <td>SUJO</td>\n",
       "      <td>107</td>\n",
       "      <td>106</td>\n",
       "    </tr>\n",
       "    <tr>\n",
       "      <th>1</th>\n",
       "      <td>SUJO</td>\n",
       "      <td>LIMPO</td>\n",
       "      <td>103</td>\n",
       "      <td>-</td>\n",
       "      <td>SUJO</td>\n",
       "      <td>LIMPO</td>\n",
       "      <td>102</td>\n",
       "      <td>-</td>\n",
       "    </tr>\n",
       "    <tr>\n",
       "      <th>2</th>\n",
       "      <td>LIMPO</td>\n",
       "      <td>SUJO</td>\n",
       "      <td>91</td>\n",
       "      <td>-</td>\n",
       "      <td>LIMPO</td>\n",
       "      <td>SUJO</td>\n",
       "      <td>111</td>\n",
       "      <td>-</td>\n",
       "    </tr>\n",
       "    <tr>\n",
       "      <th>3</th>\n",
       "      <td>LIMPO</td>\n",
       "      <td>LIMPO</td>\n",
       "      <td>106</td>\n",
       "      <td>-</td>\n",
       "      <td>LIMPO</td>\n",
       "      <td>LIMPO</td>\n",
       "      <td>103</td>\n",
       "      <td>-</td>\n",
       "    </tr>\n",
       "  </tbody>\n",
       "</table>\n",
       "</div>"
      ],
      "text/plain": [
       "      A*      B  Média Pontos-A Média Global-A      A     B*  Média Pontos-B   \n",
       "0   SUJO   SUJO             100            100   SUJO   SUJO             107  \\\n",
       "1   SUJO  LIMPO             103              -   SUJO  LIMPO             102   \n",
       "2  LIMPO   SUJO              91              -  LIMPO   SUJO             111   \n",
       "3  LIMPO  LIMPO             106              -  LIMPO  LIMPO             103   \n",
       "\n",
       "  Média Global-B  \n",
       "0            106  \n",
       "1              -  \n",
       "2              -  \n",
       "3              -  "
      ]
     },
     "execution_count": 5,
     "metadata": {},
     "output_type": "execute_result"
    }
   ],
   "source": [
    "import pandas as pd\n",
    "\n",
    "tips1 = pd.read_csv(r'C:\\Users\\Hugo Vidal\\Downloads\\table.csv')\n",
    "tips1"
   ]
  }
 ],
 "metadata": {
  "kernelspec": {
   "display_name": "Python 3 (ipykernel)",
   "language": "python",
   "name": "python3"
  },
  "language_info": {
   "codemirror_mode": {
    "name": "ipython",
    "version": 3
   },
   "file_extension": ".py",
   "mimetype": "text/x-python",
   "name": "python",
   "nbconvert_exporter": "python",
   "pygments_lexer": "ipython3",
   "version": "3.10.11"
  }
 },
 "nbformat": 4,
 "nbformat_minor": 5
}
