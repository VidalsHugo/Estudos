{
 "cells": [
  {
   "cell_type": "markdown",
   "id": "e99ed1bf",
   "metadata": {},
   "source": [
    "# Exercício Prático 2 - Agente Reativo Simples em Ambiente Completamente Observável"
   ]
  },
  {
   "cell_type": "markdown",
   "id": "b93b709f",
   "metadata": {},
   "source": [
    "Autor: Hugo Vidal"
   ]
  },
  {
   "cell_type": "code",
   "execution_count": 2,
   "id": "72b57d3b",
   "metadata": {},
   "outputs": [
    {
     "name": "stdout",
     "output_type": "stream",
     "text": [
      "Sala escolhida: A\n",
      "113\n"
     ]
    }
   ],
   "source": [
    "import random\n",
    "\n",
    "cenario = {\n",
    "    \"A\": random.randint(0,1),\n",
    "    \"B\": random.randint(0,1)\n",
    "}\n",
    "\n",
    "class Agente:\n",
    "\n",
    "    def __init__(self, cenario):\n",
    "        self.cenario = cenario\n",
    "\n",
    "    def verifica(self):\n",
    "        self.tupla = list(self.cenario.keys())  #['A', 'B']\n",
    "        self.local = ''.join(self.tupla) #\"AB\"\n",
    "\n",
    "        self.key = random.choice(self.local) # A ou B\n",
    "        print(\"Sala escolhida: \"+str(self.key))\n",
    "        \n",
    "        i = 0\n",
    "        pontos=0\n",
    "        while i<999:\n",
    "            #verifica se a sala esta limpa\n",
    "            if self.cenario[self.key] == 1:\n",
    "                if self.key == \"A\":\n",
    "                    #verifica se a sala ao lado esta suja\n",
    "                    indicador = self.direita()\n",
    "                    if(self.cenario[indicador]) == 0:\n",
    "                        self.key = self.direita()\n",
    "                else:\n",
    "                    #verifica se a sala ao lado esta suja\n",
    "                    indicador = self.esquerda()\n",
    "                    if(self.cenario[indicador]) == 0:\n",
    "                        self.key = self.esquerda()\n",
    "            #se estiver sujo:\n",
    "            else:\n",
    "                self.cenario[self.key] = self.limpar()\n",
    "                pontos +=1\n",
    "                if self.key == \"A\":\n",
    "                    indicador = self.direita()\n",
    "                    if(self.cenario[indicador]) == 0:\n",
    "                        self.key = self.direita()\n",
    "                else:\n",
    "                    indicador = self.esquerda()\n",
    "                    if(self.cenario[indicador]) == 0:\n",
    "                        self.key = self.esquerda()\n",
    "            if i%5==0:\n",
    "                #Chance de sujar alguma sala\n",
    "                sujo = random.randint(0,1)\n",
    "                if sujo == 1:\n",
    "                    self.cenario[random.choice(self.local)] = 0\n",
    "            i+=1\n",
    "        print(pontos)\n",
    "\n",
    "    def esquerda(self):\n",
    "        return \"A\"\n",
    "    def direita(self):\n",
    "        return \"B\"\n",
    "    def limpar(self):\n",
    "        #print(\"limpando...\")\n",
    "        return  1\n",
    "\n",
    "agente = Agente(cenario)\n",
    "agente.verifica()\n"
   ]
  },
  {
   "cell_type": "markdown",
   "id": "166b5472",
   "metadata": {},
   "source": [
    "Nesse exercicio 2 o Agente verifica sempre a sala ao lado se está suja para saber se deve ir ou não até ela, caso esteja limpa o Agente continua na sala que está."
   ]
  },
  {
   "cell_type": "markdown",
   "id": "cbd42f37",
   "metadata": {},
   "source": [
    "# Tabela de média das configurações iniciais e média globais"
   ]
  },
  {
   "cell_type": "markdown",
   "id": "b3ddb69b",
   "metadata": {},
   "source": [
    "Configurações iniciais pela Sala A represetada por \"A*\" e pela Sala B por \"B*\""
   ]
  },
  {
   "cell_type": "code",
   "execution_count": 4,
   "id": "7e53d24d",
   "metadata": {},
   "outputs": [
    {
     "data": {
      "text/html": [
       "<div>\n",
       "<style scoped>\n",
       "    .dataframe tbody tr th:only-of-type {\n",
       "        vertical-align: middle;\n",
       "    }\n",
       "\n",
       "    .dataframe tbody tr th {\n",
       "        vertical-align: top;\n",
       "    }\n",
       "\n",
       "    .dataframe thead th {\n",
       "        text-align: right;\n",
       "    }\n",
       "</style>\n",
       "<table border=\"1\" class=\"dataframe\">\n",
       "  <thead>\n",
       "    <tr style=\"text-align: right;\">\n",
       "      <th></th>\n",
       "      <th>A*</th>\n",
       "      <th>B</th>\n",
       "      <th>Média Pontos-A</th>\n",
       "      <th>Média Global-A</th>\n",
       "      <th>A</th>\n",
       "      <th>B*</th>\n",
       "      <th>Média Pontos-B</th>\n",
       "      <th>Média Global-B</th>\n",
       "    </tr>\n",
       "  </thead>\n",
       "  <tbody>\n",
       "    <tr>\n",
       "      <th>0</th>\n",
       "      <td>SUJO</td>\n",
       "      <td>SUJO</td>\n",
       "      <td>94</td>\n",
       "      <td>95</td>\n",
       "      <td>SUJO</td>\n",
       "      <td>SUJO</td>\n",
       "      <td>97</td>\n",
       "      <td>101</td>\n",
       "    </tr>\n",
       "    <tr>\n",
       "      <th>1</th>\n",
       "      <td>SUJO</td>\n",
       "      <td>LIMPO</td>\n",
       "      <td>101</td>\n",
       "      <td>-</td>\n",
       "      <td>SUJO</td>\n",
       "      <td>LIMPO</td>\n",
       "      <td>105</td>\n",
       "      <td>-</td>\n",
       "    </tr>\n",
       "    <tr>\n",
       "      <th>2</th>\n",
       "      <td>LIMPO</td>\n",
       "      <td>SUJO</td>\n",
       "      <td>91</td>\n",
       "      <td>-</td>\n",
       "      <td>LIMPO</td>\n",
       "      <td>SUJO</td>\n",
       "      <td>101</td>\n",
       "      <td>-</td>\n",
       "    </tr>\n",
       "    <tr>\n",
       "      <th>3</th>\n",
       "      <td>LIMPO</td>\n",
       "      <td>LIMPO</td>\n",
       "      <td>97</td>\n",
       "      <td>-</td>\n",
       "      <td>LIMPO</td>\n",
       "      <td>LIMPO</td>\n",
       "      <td>101</td>\n",
       "      <td>-</td>\n",
       "    </tr>\n",
       "  </tbody>\n",
       "</table>\n",
       "</div>"
      ],
      "text/plain": [
       "      A*      B  Média Pontos-A Média Global-A      A     B*  Média Pontos-B   \n",
       "0   SUJO   SUJO              94             95   SUJO   SUJO              97  \\\n",
       "1   SUJO  LIMPO             101              -   SUJO  LIMPO             105   \n",
       "2  LIMPO   SUJO              91              -  LIMPO   SUJO             101   \n",
       "3  LIMPO  LIMPO              97              -  LIMPO  LIMPO             101   \n",
       "\n",
       "  Média Global-B  \n",
       "0            101  \n",
       "1              -  \n",
       "2              -  \n",
       "3              -  "
      ]
     },
     "execution_count": 4,
     "metadata": {},
     "output_type": "execute_result"
    }
   ],
   "source": [
    "import pandas as pd\n",
    "\n",
    "tips2 = pd.read_csv(r'C:\\Users\\Hugo Vidal\\Downloads\\table2.csv')\n",
    "tips2"
   ]
  }
 ],
 "metadata": {
  "kernelspec": {
   "display_name": "Python 3 (ipykernel)",
   "language": "python",
   "name": "python3"
  },
  "language_info": {
   "codemirror_mode": {
    "name": "ipython",
    "version": 3
   },
   "file_extension": ".py",
   "mimetype": "text/x-python",
   "name": "python",
   "nbconvert_exporter": "python",
   "pygments_lexer": "ipython3",
   "version": "3.10.11"
  }
 },
 "nbformat": 4,
 "nbformat_minor": 5
}
